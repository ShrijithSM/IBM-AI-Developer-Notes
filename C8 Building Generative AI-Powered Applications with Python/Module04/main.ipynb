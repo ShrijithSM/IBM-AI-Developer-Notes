{
 "cells": [
  {
   "cell_type": "code",
   "execution_count": null,
   "metadata": {},
   "outputs": [],
   "source": [
    "from meta_llama import MetaLlama2\n",
    "\n",
    "# Initialize the model\n",
    "model = MetaLlama2(model_name='meta-llama-2')\n",
    "\n",
    "# Generate text based on a prompt\n",
    "prompt = \"What is the future of artificial intelligence?\"\n",
    "generated_text = model.generate_text(prompt)\n",
    "\n",
    "print(\"Generated Text:\", generated_text)"
   ]
  },
  {
   "cell_type": "code",
   "execution_count": null,
   "metadata": {},
   "outputs": [],
   "source": [
    "import whisper\n",
    "\n",
    "# Load the Whisper model\n",
    "model = whisper.load_model(\"base\")\n",
    "\n",
    "# Transcribe the audio file\n",
    "result = model.transcribe(R\"audio.mp3\")\n",
    "\n",
    "# Output the transcription\n",
    "print(result[\"text\"])\n",
    "\n",
    "#make textfile of the transcription\n",
    "with open('transcription.txt', 'w') as f:\n",
    "    f.write(result[\"text\"])\n",
    "    f.close()"
   ]
  }
 ],
 "metadata": {
  "kernelspec": {
   "display_name": "Python 3",
   "language": "python",
   "name": "python3"
  },
  "language_info": {
   "codemirror_mode": {
    "name": "ipython",
    "version": 3
   },
   "file_extension": ".py",
   "mimetype": "text/x-python",
   "name": "python",
   "nbconvert_exporter": "python",
   "pygments_lexer": "ipython3",
   "version": "3.12.7"
  }
 },
 "nbformat": 4,
 "nbformat_minor": 2
}

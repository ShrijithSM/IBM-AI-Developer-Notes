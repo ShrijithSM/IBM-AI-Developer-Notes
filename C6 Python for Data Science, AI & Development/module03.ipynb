{
 "cells": [
  {
   "cell_type": "markdown",
   "metadata": {},
   "source": [
    "### Conditions and Branching"
   ]
  },
  {
   "cell_type": "code",
   "execution_count": 2,
   "metadata": {},
   "outputs": [
    {
     "name": "stdout",
     "output_type": "stream",
     "text": [
      "0\n",
      "1\n",
      "2\n"
     ]
    }
   ],
   "source": [
    "for x in range(0, 3):\n",
    "    print(x)"
   ]
  },
  {
   "cell_type": "code",
   "execution_count": 3,
   "metadata": {},
   "outputs": [
    {
     "name": "stdout",
     "output_type": "stream",
     "text": [
      "0 A\n",
      "1 B\n",
      "2 C\n"
     ]
    }
   ],
   "source": [
    "for i, x in enumerate(['A', 'B', 'C']):\n",
    "    print(i, x)\n"
   ]
  },
  {
   "cell_type": "code",
   "execution_count": 4,
   "metadata": {},
   "outputs": [
    {
     "name": "stdout",
     "output_type": "stream",
     "text": [
      "There was an error\n"
     ]
    }
   ],
   "source": [
    "a = 1\n",
    "try:\n",
    "    b = 0\n",
    "    a = a / b\n",
    "    print(\"Success a =\", a)\n",
    "except:\n",
    "    print(\"There was an error\")\n"
   ]
  },
  {
   "cell_type": "code",
   "execution_count": 5,
   "metadata": {},
   "outputs": [],
   "source": [
    "class Circle(object):\n",
    "    # Constructor\n",
    "    def __init__(self, radius=3, color='blue'):\n",
    "        self.radius = radius\n",
    "        self.color = color\n",
    "\n",
    "\n",
    "    # Method\n",
    "    def add_radius(self, r):\n",
    "        self.radius = self.radius + r\n",
    "        return self.radius"
   ]
  },
  {
   "cell_type": "code",
   "execution_count": 6,
   "metadata": {},
   "outputs": [],
   "source": [
    "class Circle(object):\n",
    "    # Constructor\n",
    "    def __init__(self, radius=3, color='blue'):\n",
    "        self.radius = radius\n",
    "        self.color = color\n",
    "        \n",
    "    # Method\n",
    "    def add_radius(self, r):\n",
    "        self.radius = self.radius + r\n",
    "        return self.radius\n",
    "\n",
    "CircleObj = Circle()\n",
    "CircleObj.radius = 10"
   ]
  },
  {
   "cell_type": "code",
   "execution_count": 7,
   "metadata": {},
   "outputs": [
    {
     "name": "stdout",
     "output_type": "stream",
     "text": [
      "80\n"
     ]
    }
   ],
   "source": [
    "class Graph():\n",
    "    def __init__(self, id):\n",
    "        self.id = id\n",
    "        self.id = 80\n",
    "\n",
    "\n",
    "val = Graph(200)\n",
    "print(val.id)\n"
   ]
  },
  {
   "cell_type": "code",
   "execution_count": 10,
   "metadata": {},
   "outputs": [
    {
     "name": "stdout",
     "output_type": "stream",
     "text": [
      "white\n"
     ]
    }
   ],
   "source": [
    "class Vehicle:\n",
    "    color = \"white\"\n",
    "\n",
    "\n",
    "    def __init__(self, max_speed, mileage):\n",
    "        self.max_speed = max_speed\n",
    "        self.mileage = mileage\n",
    "        self.seating_capacity = None\n",
    "\n",
    "\n",
    "    def assign_seating_capacity(self, seating_capacity):\n",
    "        self.seating_capacity = seating_capacity\n",
    "\n",
    "\n",
    "V1 = Vehicle(150, 25)\n",
    "print(V1.color)"
   ]
  },
  {
   "cell_type": "code",
   "execution_count": 11,
   "metadata": {},
   "outputs": [
    {
     "name": "stdout",
     "output_type": "stream",
     "text": [
      "1 A\n",
      "2 B\n",
      "3 C\n"
     ]
    }
   ],
   "source": [
    "for i, x in enumerate(['A', 'B', 'C']): \n",
    "    print(i + 1, x)"
   ]
  },
  {
   "cell_type": "code",
   "execution_count": 12,
   "metadata": {},
   "outputs": [
    {
     "name": "stdout",
     "output_type": "stream",
     "text": [
      "x= A  y= 2\n"
     ]
    }
   ],
   "source": [
    "class Points(object): \n",
    "    def __init__(self, x, y): \n",
    "        self.x = x \n",
    "        self.y = y \n",
    "    def print_point(self): \n",
    "        print('x=', self.x, ' y=', self.y) \n",
    "\n",
    "\n",
    "p2 = Points(1, 2) \n",
    "p2.x = 'A' \n",
    "p2.print_point()\n"
   ]
  }
 ],
 "metadata": {
  "kernelspec": {
   "display_name": "Python 3",
   "language": "python",
   "name": "python3"
  },
  "language_info": {
   "codemirror_mode": {
    "name": "ipython",
    "version": 3
   },
   "file_extension": ".py",
   "mimetype": "text/x-python",
   "name": "python",
   "nbconvert_exporter": "python",
   "pygments_lexer": "ipython3",
   "version": "3.12.6"
  }
 },
 "nbformat": 4,
 "nbformat_minor": 2
}

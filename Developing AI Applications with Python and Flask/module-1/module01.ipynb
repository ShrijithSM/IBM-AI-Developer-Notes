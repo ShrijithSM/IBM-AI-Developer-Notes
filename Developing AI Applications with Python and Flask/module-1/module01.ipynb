{
 "cells": [
  {
   "cell_type": "code",
   "execution_count": 1,
   "metadata": {},
   "outputs": [
    {
     "name": "stdout",
     "output_type": "stream",
     "text": [
      "The sum of 4 and 5 is 9\n"
     ]
    }
   ],
   "source": [
    "# Define a function named 'add' that takes two arguments, 'number1' and 'number2'.\n",
    "def add(number1, number2):\n",
    "    # The function returns the sum of 'number1' and 'number2'.\n",
    "    return number1 + number2\n",
    "\n",
    "# Initialize the variable 'num1' with the value 4.\n",
    "num1 = 4\n",
    "\n",
    "# Initialize the variable 'num2' with the value 5.\n",
    "num2 = 5\n",
    "\n",
    "# Call the 'add' function with 'num1' and 'num2' as arguments and store the result in 'total'.\n",
    "total = add(num1, num2)\n",
    "\n",
    "# Print the result of adding 'num1' and 'num2' using the 'format' method to insert the values into the string.\n",
    "print(\"The sum of {} and {} is {}\".format(num1, num2, total))"
   ]
  }
 ],
 "metadata": {
  "kernelspec": {
   "display_name": "Python 3",
   "language": "python",
   "name": "python3"
  },
  "language_info": {
   "codemirror_mode": {
    "name": "ipython",
    "version": 3
   },
   "file_extension": ".py",
   "mimetype": "text/x-python",
   "name": "python",
   "nbconvert_exporter": "python",
   "pygments_lexer": "ipython3",
   "version": "3.12.7"
  }
 },
 "nbformat": 4,
 "nbformat_minor": 2
}
